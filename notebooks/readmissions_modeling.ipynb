{
 "cells": [
  {
   "cell_type": "code",
   "execution_count": 1,
   "id": "879b1c19",
   "metadata": {},
   "outputs": [
    {
     "name": "stdout",
     "output_type": "stream",
     "text": [
      "              precision    recall  f1-score   support\n",
      "\n",
      "           0       0.89      1.00      0.94     19087\n",
      "           1       0.99      0.05      0.10      2438\n",
      "\n",
      "    accuracy                           0.89     21525\n",
      "   macro avg       0.94      0.53      0.52     21525\n",
      "weighted avg       0.90      0.89      0.85     21525\n",
      "\n"
     ]
    }
   ],
   "source": [
    "# readmission_modeling.ipynb\n",
    "\n",
    "import pandas as pd\n",
    "from sklearn.model_selection import train_test_split\n",
    "from sklearn.ensemble import RandomForestClassifier\n",
    "from sklearn.metrics import classification_report\n",
    "\n",
    "# Load and merge data\n",
    "patients = pd.read_csv(\"../data/patients.csv\")\n",
    "visits = pd.read_csv(\"../data/hospital_visits.csv\")\n",
    "df = pd.merge(visits, patients, on=\"patient_nbr\", how=\"left\")\n",
    "\n",
    "# Drop IDs\n",
    "df = df.drop(columns=[\"encounter_id\", \"patient_nbr\"])\n",
    "\n",
    "# Binary target: has patient been readmitted?\n",
    "df[\"readmitted\"] = df[\"readmitted\"].apply(lambda x: 1 if x == \"<30\" else 0)\n",
    "\n",
    "# One-hot encode categorical columns\n",
    "df_encoded = pd.get_dummies(df, drop_first=True)\n",
    "\n",
    "# Train-test split\n",
    "X = df_encoded.drop(\"readmitted\", axis=1)\n",
    "y = df_encoded[\"readmitted\"]\n",
    "\n",
    "X_train, X_test, y_train, y_test = train_test_split(X, y, test_size=0.2, random_state=42)\n",
    "\n",
    "# Random Forest Model\n",
    "model = RandomForestClassifier(n_estimators=100, random_state=42)\n",
    "model.fit(X_train, y_train)\n",
    "\n",
    "# Evaluate\n",
    "y_pred = model.predict(X_test)\n",
    "print(classification_report(y_test, y_pred))\n"
   ]
  }
 ],
 "metadata": {
  "kernelspec": {
   "display_name": "Python 3",
   "language": "python",
   "name": "python3"
  },
  "language_info": {
   "codemirror_mode": {
    "name": "ipython",
    "version": 3
   },
   "file_extension": ".py",
   "mimetype": "text/x-python",
   "name": "python",
   "nbconvert_exporter": "python",
   "pygments_lexer": "ipython3",
   "version": "3.10.11"
  }
 },
 "nbformat": 4,
 "nbformat_minor": 5
}
