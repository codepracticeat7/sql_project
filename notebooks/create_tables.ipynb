{
 "cells": [
  {
   "cell_type": "code",
   "execution_count": 1,
   "id": "f67fd54d",
   "metadata": {},
   "outputs": [],
   "source": [
    "import pandas as pd\n",
    "\n",
    "# Load the original dataset\n",
    "df = pd.read_csv(\"K:\\data science\\hospital-readmission-project\\data\\diabetic_data.csv\")\n",
    "\n",
    "# Standardize column names\n",
    "df.columns = df.columns.str.lower().str.replace(\" \", \"_\")\n",
    "\n",
    "# Drop columns with too many missing values or little relevance\n",
    "df_clean = df.drop(columns=[\"weight\", \"payer_code\", \"medical_specialty\"])\n",
    "\n",
    "\n"
   ]
  },
  {
   "cell_type": "code",
   "execution_count": 3,
   "id": "668f124a",
   "metadata": {},
   "outputs": [
    {
     "data": {
      "text/plain": [
       "(101766, 73326, 101766)"
      ]
     },
     "execution_count": 3,
     "metadata": {},
     "output_type": "execute_result"
    }
   ],
   "source": [
    "# Save the cleaned full dataset\n",
    "df_clean.to_csv(\"K:\\data science\\hospital-readmission-project\\data\\clean_diabetic_data.csv\", index=False)\n",
    "\n",
    "# Create a simplified patients table\n",
    "patients = df_clean[[\"patient_nbr\", \"race\", \"gender\", \"age\"]].drop_duplicates()\n",
    "patients.to_csv(\"K:\\data science\\hospital-readmission-project\\data\\patients.csv\", index=False)\n",
    "\n",
    "# Create a hospital visits table without patient demographic columns\n",
    "hospital_visits = df_clean.drop(columns=[\"race\", \"gender\", \"age\"])\n",
    "hospital_visits.to_csv(\"K:\\data science\\hospital-readmission-project\\data\\hospital_visits.csv\", index=False)\n",
    "\n",
    "# Preview number of rows for each\n",
    "len(df_clean), len(patients), len(hospital_visits)"
   ]
  },
  {
   "cell_type": "code",
   "execution_count": 1,
   "id": "316bfd69",
   "metadata": {},
   "outputs": [
    {
     "data": {
      "text/plain": [
       "'K:\\\\data science\\\\hospital-readmission-project\\\\data\\\\create_tables.sql'"
      ]
     },
     "execution_count": 1,
     "metadata": {},
     "output_type": "execute_result"
    }
   ],
   "source": [
    "# Generate SQL create table statements for PostgreSQL\n",
    "\n",
    "patients_sql = \"\"\"\n",
    "CREATE TABLE patients (\n",
    "    patient_nbr BIGINT PRIMARY KEY,\n",
    "    race TEXT,\n",
    "    gender TEXT,\n",
    "    age TEXT\n",
    ");\n",
    "\"\"\"\n",
    "\n",
    "hospital_visits_sql = \"\"\"\n",
    "CREATE TABLE hospital_visits (\n",
    "    encounter_id BIGINT PRIMARY KEY,\n",
    "    patient_nbr BIGINT REFERENCES patients(patient_nbr),\n",
    "    admission_type_id INTEGER,\n",
    "    discharge_disposition_id INTEGER,\n",
    "    admission_source_id INTEGER,\n",
    "    time_in_hospital INTEGER,\n",
    "    num_lab_procedures INTEGER,\n",
    "    num_procedures INTEGER,\n",
    "    num_medications INTEGER,\n",
    "    number_outpatient INTEGER,\n",
    "    number_emergency INTEGER,\n",
    "    number_inpatient INTEGER,\n",
    "    diag_1 TEXT,\n",
    "    diag_2 TEXT,\n",
    "    diag_3 TEXT,\n",
    "    number_diagnoses INTEGER,\n",
    "    max_glu_serum TEXT,\n",
    "    a1cresult TEXT,\n",
    "    metformin TEXT,\n",
    "    insulin TEXT,\n",
    "    change TEXT,\n",
    "    diabetesmed TEXT,\n",
    "    readmitted TEXT\n",
    ");\n",
    "\"\"\"\n",
    "\n",
    "# Save these to .sql files\n",
    "with open(\"K:\\data science\\hospital-readmission-project\\data\\create_tables.sql\", \"w\") as f:\n",
    "    f.write(patients_sql)\n",
    "    f.write(\"\\n\")\n",
    "    f.write(hospital_visits_sql)\n",
    "\n",
    "\"K:\\data science\\hospital-readmission-project\\data\\create_tables.sql\"\n"
   ]
  }
 ],
 "metadata": {
  "kernelspec": {
   "display_name": "Python 3",
   "language": "python",
   "name": "python3"
  },
  "language_info": {
   "codemirror_mode": {
    "name": "ipython",
    "version": 3
   },
   "file_extension": ".py",
   "mimetype": "text/x-python",
   "name": "python",
   "nbconvert_exporter": "python",
   "pygments_lexer": "ipython3",
   "version": "3.10.11"
  }
 },
 "nbformat": 4,
 "nbformat_minor": 5
}
