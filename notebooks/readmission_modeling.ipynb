{
 "cells": [
  {
   "cell_type": "code",
   "execution_count": 1,
   "id": "f67fd54d",
   "metadata": {},
   "outputs": [],
   "source": [
    "import pandas as pd\n",
    "\n",
    "# Load the original dataset\n",
    "df = pd.read_csv(\"K:\\data science\\hospital-readmission-project\\data\\diabetic_data.csv\")\n",
    "\n",
    "# Standardize column names\n",
    "df.columns = df.columns.str.lower().str.replace(\" \", \"_\")\n",
    "\n",
    "# Drop columns with too many missing values or little relevance\n",
    "df_clean = df.drop(columns=[\"weight\", \"payer_code\", \"medical_specialty\"])\n",
    "\n",
    "\n"
   ]
  },
  {
   "cell_type": "code",
   "execution_count": 3,
   "id": "668f124a",
   "metadata": {},
   "outputs": [
    {
     "data": {
      "text/plain": [
       "(101766, 73326, 101766)"
      ]
     },
     "execution_count": 3,
     "metadata": {},
     "output_type": "execute_result"
    }
   ],
   "source": [
    "# Save the cleaned full dataset\n",
    "df_clean.to_csv(\"K:\\data science\\hospital-readmission-project\\data\\clean_diabetic_data.csv\", index=False)\n",
    "\n",
    "# Create a simplified patients table\n",
    "patients = df_clean[[\"patient_nbr\", \"race\", \"gender\", \"age\"]].drop_duplicates()\n",
    "patients.to_csv(\"K:\\data science\\hospital-readmission-project\\data\\patients.csv\", index=False)\n",
    "\n",
    "# Create a hospital visits table without patient demographic columns\n",
    "hospital_visits = df_clean.drop(columns=[\"race\", \"gender\", \"age\"])\n",
    "hospital_visits.to_csv(\"K:\\data science\\hospital-readmission-project\\data\\hospital_visits.csv\", index=False)\n",
    "\n",
    "# Preview number of rows for each\n",
    "len(df_clean), len(patients), len(hospital_visits)"
   ]
  }
 ],
 "metadata": {
  "kernelspec": {
   "display_name": "Python 3",
   "language": "python",
   "name": "python3"
  },
  "language_info": {
   "codemirror_mode": {
    "name": "ipython",
    "version": 3
   },
   "file_extension": ".py",
   "mimetype": "text/x-python",
   "name": "python",
   "nbconvert_exporter": "python",
   "pygments_lexer": "ipython3",
   "version": "3.10.11"
  }
 },
 "nbformat": 4,
 "nbformat_minor": 5
}
